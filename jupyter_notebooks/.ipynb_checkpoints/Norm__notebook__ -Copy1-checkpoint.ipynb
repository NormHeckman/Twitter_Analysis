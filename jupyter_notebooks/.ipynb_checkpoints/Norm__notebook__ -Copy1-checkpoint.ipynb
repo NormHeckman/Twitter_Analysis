{
 "cells": [
  {
   "cell_type": "markdown",
   "metadata": {
    "_cell_guid": "d6921fff-02b6-0a6d-19bd-126a34ae32d7"
   },
   "source": [
    "The notebook builds a simple word cloud\n",
    "-----------------------------------------------------------------------\n",
    "This notebook is based on one created by Kate on Kaggle.com. See the original at: https://www.kaggle.com/katerynad/d/benhamner/clinton-trump-tweets/wordcloud \n",
    "This version has been modified to work with raw twitter data text files from the Mozdeh twitter collection tool by Norm Heckman.\n",
    "Mozdeh saves data in a parallel folder rss_data/<project_name>/raw data.txt\n",
    "In order to use the files I opended them in Excel and saved them as .csv files into the jupyter input directory."
   ]
  },
  {
   "cell_type": "code",
   "execution_count": 1,
   "metadata": {
    "_cell_guid": "6375f13f-f864-bca4-4b0e-4085fea2c69c",
    "collapsed": false
   },
   "outputs": [],
   "source": [
    "import numpy as np \n",
    "import pandas as pd\n",
    "from wordcloud import WordCloud\n",
    "from wordcloud import STOPWORDS\n",
    "\n",
    "import matplotlib.pyplot as plt\n",
    "\n",
    "from PIL import Image\n"
   ]
  },
  {
   "cell_type": "markdown",
   "metadata": {
    "_cell_guid": "3f2cc727-3a42-a665-f7bd-499ff667d819"
   },
   "source": [
    "Read the data and separate candidates into 2 different data frames\n",
    "------------------------------------------------------------------"
   ]
  },
  {
   "cell_type": "markdown",
   "metadata": {
    "_cell_guid": "1ff70d52-0bbd-d373-f6c1-4a6149cd2fa2"
   },
   "source": [
    "We need to exclude stop words\n",
    "-----------------------------"
   ]
  },
  {
   "cell_type": "code",
   "execution_count": 2,
   "metadata": {
    "_cell_guid": "70daae0f-9208-5bd0-8290-7b277e4fdd0f",
    "collapsed": false
   },
   "outputs": [],
   "source": [
    "stopwords = set(STOPWORDS)\n",
    "stopwords.add(\"http\")\n",
    "stopwords.add(\"https\")\n",
    "stopwords.add(\"amp\")\n",
    "stopwords.add(\"CO\")\n",
    "#stopwords.add(\"Trump\")\n",
    "#stopwords.add(\"Trump2016\")\n",
    "#stopwords.add(\"Donald\")\n",
    "#stopwords.add(\"Clinton\")\n",
    "#stopwords.add(\"Hillary\")\n",
    "stopwords.add(\"PutinRF_Eng\")\n",
    "#stopwords.add(\"will\")\n",
    "stopwords.add(\"say\")\n",
    "stopwords.add(\"said\")\n",
    "stopwords.add(\"let\")\n",
    "stopwords.add(\"vote\")\n",
    "stopwords.add(\"now\")\n",
    "stopwords.add(\"go\")"
   ]
  },
  {
   "cell_type": "code",
   "execution_count": 3,
   "metadata": {
    "_cell_guid": "153f7d74-831f-b16c-541b-3b05099fe4ee",
    "collapsed": false
   },
   "outputs": [],
   "source": [
    "df = pd.read_csv('c:/workspace/jupyter/input/tweetsP.csv', error_bad_lines=False)\n",
    "\n",
    "# Had to add error skipping due to crappy input from cree.py - neh\n",
    "\n",
    "# For Mozdeh data, Label contains twitter handle, Content conatains the tweet \n",
    "\n",
    "# df_hc=df.loc[(df['handle']=='HillaryClinton'),['text']]\n",
    "df_dt=df.loc[(df['Label']=='PutinRF_Eng'),['Content']]"
   ]
  },
  {
   "cell_type": "markdown",
   "metadata": {
    "_cell_guid": "da7579df-97f3-93b4-1669-8dfd6fea6dda"
   },
   "source": [
    "Now it's simple enough to build a cloud\n",
    "---------------------------------------"
   ]
  },
  {
   "cell_type": "code",
   "execution_count": 5,
   "metadata": {
    "_cell_guid": "79475eea-854b-cdb7-ff8c-a17f04a9ef90",
    "collapsed": false
   },
   "outputs": [],
   "source": [
    "wordcloud_dt = WordCloud(max_font_size=40, relative_scaling=.5,stopwords=stopwords).generate(df_dt['Content'].str.cat())\n",
    "plt.figure()\n",
    "plt.imshow(wordcloud_dt)\n",
    "plt.axis(\"off\")\n",
    "plt.show()"
   ]
  }
 ],
 "metadata": {
  "_change_revision": 20,
  "_is_fork": false,
  "kernelspec": {
   "display_name": "Python 2",
   "language": "python",
   "name": "python2"
  },
  "language_info": {
   "codemirror_mode": {
    "name": "ipython",
    "version": 2
   },
   "file_extension": ".py",
   "mimetype": "text/x-python",
   "name": "python",
   "nbconvert_exporter": "python",
   "pygments_lexer": "ipython2",
   "version": "2.7.11"
  }
 },
 "nbformat": 4,
 "nbformat_minor": 0
}
